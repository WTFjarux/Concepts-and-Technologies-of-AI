{
  "nbformat": 4,
  "nbformat_minor": 0,
  "metadata": {
    "colab": {
      "provenance": [],
      "authorship_tag": "ABX9TyN/qan250hTzjkXg2ODDX8P",
      "include_colab_link": true
    },
    "kernelspec": {
      "name": "python3",
      "display_name": "Python 3"
    },
    "language_info": {
      "name": "python"
    }
  },
  "cells": [
    {
      "cell_type": "markdown",
      "metadata": {
        "id": "view-in-github",
        "colab_type": "text"
      },
      "source": [
        "<a href=\"https://colab.research.google.com/github/WTFjarux/Concepts-and-Technologies-of-AI/blob/main/2438454_Worksheet1.ipynb\" target=\"_parent\"><img src=\"https://colab.research.google.com/assets/colab-badge.svg\" alt=\"Open In Colab\"/></a>"
      ]
    },
    {
      "cell_type": "code",
      "source": [
        "a=np.zeros((2,3))\n",
        "a"
      ],
      "metadata": {
        "colab": {
          "base_uri": "https://localhost:8080/"
        },
        "id": "bcrOpRSYibXs",
        "outputId": "cf1122cf-cc1e-4a74-e0bc-f9a8df47dd9b"
      },
      "execution_count": 11,
      "outputs": [
        {
          "output_type": "execute_result",
          "data": {
            "text/plain": [
              "array([[0., 0., 0.],\n",
              "       [0., 0., 0.]])"
            ]
          },
          "metadata": {},
          "execution_count": 11
        }
      ]
    },
    {
      "cell_type": "code",
      "source": [
        "import numpy as np\n",
        "a= np.arange(8).reshape(2,4)\n",
        "a"
      ],
      "metadata": {
        "colab": {
          "base_uri": "https://localhost:8080/"
        },
        "id": "YwxJDdtIeZI5",
        "outputId": "5467482a-857d-4d7c-b3f0-fd245883161b"
      },
      "execution_count": 24,
      "outputs": [
        {
          "output_type": "execute_result",
          "data": {
            "text/plain": [
              "array([[0, 1, 2, 3],\n",
              "       [4, 5, 6, 7]])"
            ]
          },
          "metadata": {},
          "execution_count": 24
        }
      ]
    },
    {
      "cell_type": "code",
      "source": [
        "b = np.array([[1,2,3,5],[4,5,6,7]])\n",
        "b\n"
      ],
      "metadata": {
        "colab": {
          "base_uri": "https://localhost:8080/"
        },
        "id": "R5X2KySUlbVY",
        "outputId": "2e9a18d9-084b-4724-ad3b-28ea63afc8f7"
      },
      "execution_count": 23,
      "outputs": [
        {
          "output_type": "execute_result",
          "data": {
            "text/plain": [
              "array([[1, 2, 3, 5],\n",
              "       [4, 5, 6, 7]])"
            ]
          },
          "metadata": {},
          "execution_count": 23
        }
      ]
    },
    {
      "cell_type": "code",
      "source": [
        "c = np.concatenate((a,b),axis=0)\n",
        "c"
      ],
      "metadata": {
        "colab": {
          "base_uri": "https://localhost:8080/"
        },
        "id": "vf4ynulmlJXV",
        "outputId": "31a3b93a-630b-473a-d05c-86cefabfc9f9"
      },
      "execution_count": 28,
      "outputs": [
        {
          "output_type": "execute_result",
          "data": {
            "text/plain": [
              "array([[0, 1, 2, 3],\n",
              "       [4, 5, 6, 7],\n",
              "       [1, 2, 3, 5],\n",
              "       [4, 5, 6, 7]])"
            ]
          },
          "metadata": {},
          "execution_count": 28
        }
      ]
    },
    {
      "cell_type": "code",
      "source": [
        "import numpy as np\n",
        "a = np . arange (1 , 10)\n",
        "print ( a )\n",
        "x = range (1 , 10)\n",
        "print ( x ) # x is an iterator\n",
        "print ( list ( x ) )\n",
        "# further arange examples :\n",
        "x = np . arange (10.4)\n",
        "print ( x )\n",
        "x = np . arange (0.5 , 10.4 , 0.8)\n",
        "print ( x )"
      ],
      "metadata": {
        "colab": {
          "base_uri": "https://localhost:8080/"
        },
        "id": "Awtdiz3pjx5B",
        "outputId": "ee55ab85-6bdc-47bc-b668-fd88529aa688"
      },
      "execution_count": 12,
      "outputs": [
        {
          "output_type": "stream",
          "name": "stdout",
          "text": [
            "[1 2 3 4 5 6 7 8 9]\n",
            "range(1, 10)\n",
            "[1, 2, 3, 4, 5, 6, 7, 8, 9]\n",
            "[ 0.  1.  2.  3.  4.  5.  6.  7.  8.  9. 10.]\n",
            "[ 0.5  1.3  2.1  2.9  3.7  4.5  5.3  6.1  6.9  7.7  8.5  9.3 10.1]\n"
          ]
        }
      ]
    },
    {
      "cell_type": "markdown",
      "source": [
        "TO DO TASKS\n",
        "\n"
      ],
      "metadata": {
        "id": "ntMwNCrIqz0v"
      }
    },
    {
      "cell_type": "markdown",
      "source": [
        "4.1 Warming Up Exercise: Basic Vector and Matrix Operation with Numpy.\n",
        "Problem - 1: Array Creation:\n",
        "Complete the following Tasks:\n",
        "1. Initialize an empty array with size 2X2.\n",
        "2. Initialize an all one array with size 4X2.\n",
        "3. Return a new array of given shape and type, filled with fill value.{Hint: np.full}\n",
        "4. Return a new array of zeros with same shape and type as a given array.{Hint: np.zeros like}\n",
        "5. Return a new array of ones with same shape and type as a given array.{Hint: np.ones like}\n",
        "6. For an existing list new_list = [1,2,3,4] convert to an numpy array.{Hint: np.array()}"
      ],
      "metadata": {
        "id": "OLJzYCBxrV-1"
      }
    },
    {
      "cell_type": "code",
      "source": [
        "#1\n",
        "import numpy as np\n",
        "arr_empty = np.empty((2,2))\n",
        "arr_empty\n",
        "\n"
      ],
      "metadata": {
        "colab": {
          "base_uri": "https://localhost:8080/"
        },
        "id": "C9koiTKGq7Rr",
        "outputId": "cf77fe04-1ac0-47a4-ddba-724e1b8c7218"
      },
      "execution_count": 35,
      "outputs": [
        {
          "output_type": "execute_result",
          "data": {
            "text/plain": [
              "array([[1., 1.],\n",
              "       [1., 1.],\n",
              "       [1., 1.],\n",
              "       [1., 1.]])"
            ]
          },
          "metadata": {},
          "execution_count": 35
        }
      ]
    },
    {
      "cell_type": "code",
      "source": [
        "#2\n",
        "arr_ones = np.ones((4,2))\n",
        "arr_ones"
      ],
      "metadata": {
        "colab": {
          "base_uri": "https://localhost:8080/"
        },
        "id": "wUHblJEuuIQ7",
        "outputId": "cc1216c3-6d58-4e65-ec34-84292dd3e531"
      },
      "execution_count": 36,
      "outputs": [
        {
          "output_type": "execute_result",
          "data": {
            "text/plain": [
              "array([[1., 1.],\n",
              "       [1., 1.],\n",
              "       [1., 1.],\n",
              "       [1., 1.]])"
            ]
          },
          "metadata": {},
          "execution_count": 36
        }
      ]
    },
    {
      "cell_type": "code",
      "source": [
        "#3\n",
        "arr_full = np.full((4,2),9)\n",
        "arr_full"
      ],
      "metadata": {
        "colab": {
          "base_uri": "https://localhost:8080/"
        },
        "id": "q-0nQ9ZquPQV",
        "outputId": "470b1a1f-d1ff-44ec-c601-75a407876660"
      },
      "execution_count": 39,
      "outputs": [
        {
          "output_type": "execute_result",
          "data": {
            "text/plain": [
              "array([[9, 9],\n",
              "       [9, 9],\n",
              "       [9, 9],\n",
              "       [9, 9]])"
            ]
          },
          "metadata": {},
          "execution_count": 39
        }
      ]
    },
    {
      "cell_type": "code",
      "source": [
        "#4\n",
        "arr_zeros = np.zeros_like(arr_empty)\n",
        "arr_zeros"
      ],
      "metadata": {
        "colab": {
          "base_uri": "https://localhost:8080/"
        },
        "id": "M-dQzavbuPX5",
        "outputId": "7daa18d6-85da-4142-f751-0ac77b5bb028"
      },
      "execution_count": 49,
      "outputs": [
        {
          "output_type": "execute_result",
          "data": {
            "text/plain": [
              "array([[0., 0.],\n",
              "       [0., 0.]])"
            ]
          },
          "metadata": {},
          "execution_count": 49
        }
      ]
    },
    {
      "cell_type": "code",
      "source": [
        "#5\n",
        "arr_ones_like = np.ones_like(arr_ones)\n",
        "arr_ones_like"
      ],
      "metadata": {
        "colab": {
          "base_uri": "https://localhost:8080/"
        },
        "id": "eEXEJ2UvvVFV",
        "outputId": "aa206ddf-1685-441d-c037-2fddcd5925b7"
      },
      "execution_count": 50,
      "outputs": [
        {
          "output_type": "execute_result",
          "data": {
            "text/plain": [
              "array([[1., 1.],\n",
              "       [1., 1.],\n",
              "       [1., 1.],\n",
              "       [1., 1.]])"
            ]
          },
          "metadata": {},
          "execution_count": 50
        }
      ]
    },
    {
      "cell_type": "code",
      "source": [
        "#6\n",
        "new_list = [1,2,3,4]\n",
        "arr_new_list = np.array(new_list)\n",
        "arr_new_list"
      ],
      "metadata": {
        "colab": {
          "base_uri": "https://localhost:8080/"
        },
        "id": "ykMwXB4BwIQo",
        "outputId": "30bd7b09-48c5-451e-8de0-2a7d3e9c4eec"
      },
      "execution_count": 51,
      "outputs": [
        {
          "output_type": "execute_result",
          "data": {
            "text/plain": [
              "array([1, 2, 3, 4])"
            ]
          },
          "metadata": {},
          "execution_count": 51
        }
      ]
    },
    {
      "cell_type": "markdown",
      "source": [
        "4.1.1 Problem - 2: Array Manipulation: Numerical Ranges and Array indexing:\n",
        "Complete the following tasks:\n",
        "1. Create an array with values ranging from 10 to 49. {Hint:np.arrange()}.\n",
        "2. Create a 3X3 matrix with values ranging from 0 to 8.\n",
        "{Hint:look for np.reshape()}\n",
        "3. Create a 3X3 identity matrix.{Hint:np.eye()}\n",
        "4. Create a random array of size 30 and find the mean of the array.\n",
        "{Hint:check for np.random.random() and array.mean() function}\n",
        "5. Create a 10X10 array with random values and find the minimum and maximum values.\n",
        "6. Create a zero array of size 10 and replace 5th element with 1.\n",
        "7. Reverse an array arr = [1,2,0,0,4,0].\n",
        "8. Create a 2d array with 1 on border and 0 inside.\n",
        "9. Create a 8X8 matrix and fill it with a checkerboard pattern."
      ],
      "metadata": {
        "id": "x073AJ-JwStJ"
      }
    },
    {
      "cell_type": "code",
      "source": [
        "#1\n",
        "arr_range = np.arange(10,50)\n",
        "arr_range"
      ],
      "metadata": {
        "colab": {
          "base_uri": "https://localhost:8080/"
        },
        "id": "E7zA8AFWwUCz",
        "outputId": "34ebfea9-d4de-415e-e2c0-48e1e82ff74f"
      },
      "execution_count": 52,
      "outputs": [
        {
          "output_type": "execute_result",
          "data": {
            "text/plain": [
              "array([10, 11, 12, 13, 14, 15, 16, 17, 18, 19, 20, 21, 22, 23, 24, 25, 26,\n",
              "       27, 28, 29, 30, 31, 32, 33, 34, 35, 36, 37, 38, 39, 40, 41, 42, 43,\n",
              "       44, 45, 46, 47, 48, 49])"
            ]
          },
          "metadata": {},
          "execution_count": 52
        }
      ]
    },
    {
      "cell_type": "code",
      "source": [
        "#2\n",
        "arr_reshape = np.arange(9).reshape(3,3)\n",
        "arr_reshape"
      ],
      "metadata": {
        "colab": {
          "base_uri": "https://localhost:8080/"
        },
        "id": "fBvWRzULwZLd",
        "outputId": "8cbf6262-eb5b-4463-ea20-b5098fb0c79b"
      },
      "execution_count": 53,
      "outputs": [
        {
          "output_type": "execute_result",
          "data": {
            "text/plain": [
              "array([[0, 1, 2],\n",
              "       [3, 4, 5],\n",
              "       [6, 7, 8]])"
            ]
          },
          "metadata": {},
          "execution_count": 53
        }
      ]
    },
    {
      "cell_type": "code",
      "source": [
        "#3\n",
        "arr_identity= np.eye(3)\n",
        "arr_identity"
      ],
      "metadata": {
        "colab": {
          "base_uri": "https://localhost:8080/"
        },
        "id": "rfp-2w1RwZSm",
        "outputId": "d06430e8-4ba2-47b5-c975-e75efc512371"
      },
      "execution_count": 55,
      "outputs": [
        {
          "output_type": "execute_result",
          "data": {
            "text/plain": [
              "array([[1., 0., 0.],\n",
              "       [0., 1., 0.],\n",
              "       [0., 0., 1.]])"
            ]
          },
          "metadata": {},
          "execution_count": 55
        }
      ]
    },
    {
      "cell_type": "code",
      "source": [
        "#4\n",
        "arr_random= np.random.random(30)\n",
        "print(arr_random,\"\\n\")\n",
        "arr_random_mean=np.mean(arr_random)\n",
        "arr_random_mean"
      ],
      "metadata": {
        "colab": {
          "base_uri": "https://localhost:8080/"
        },
        "id": "EZ8o0SwywZVn",
        "outputId": "e829b47d-583b-40e9-d03a-e4422987318a"
      },
      "execution_count": 62,
      "outputs": [
        {
          "output_type": "stream",
          "name": "stdout",
          "text": [
            "[0.98114438 0.32088786 0.11236804 0.95652149 0.70494462 0.08097538\n",
            " 0.96264661 0.60291431 0.75203664 0.73612261 0.99067949 0.97925894\n",
            " 0.93397345 0.10417424 0.86688216 0.64307547 0.65611879 0.61533499\n",
            " 0.60967429 0.68118562 0.06852437 0.30199248 0.66418913 0.908559\n",
            " 0.48238102 0.26410175 0.20861594 0.30873344 0.4838381  0.09639029] \n",
            "\n"
          ]
        },
        {
          "output_type": "execute_result",
          "data": {
            "text/plain": [
              "0.5692748302886897"
            ]
          },
          "metadata": {},
          "execution_count": 62
        }
      ]
    },
    {
      "cell_type": "code",
      "source": [
        "#5\n",
        "import warnings\n",
        "warnings.filterwarnings('ignore')\n",
        "arr_rand=np.random.random_integers(100, size=(10,10))\n",
        "print(arr_rand)\n",
        "arr_rand_min=arr_rand.min()\n",
        "arr_rand_max=arr_rand.max()\n",
        "print(\"\\nMinimum value:\",arr_rand_min)\n",
        "print(\"Maximum value:\",arr_rand_max)\n"
      ],
      "metadata": {
        "colab": {
          "base_uri": "https://localhost:8080/"
        },
        "id": "2XwMNppfwZYL",
        "outputId": "4cb8d6a8-594f-4da0-e0a0-b7f835d4cf33"
      },
      "execution_count": 88,
      "outputs": [
        {
          "output_type": "stream",
          "name": "stdout",
          "text": [
            "[[24 35 66 73 28 12 21 17  8 11]\n",
            " [16 49 49 99 11 20 70 65 56 24]\n",
            " [53 56 32 19 27 37 19 75  9 72]\n",
            " [91 64 56 70  9 96 83 91 61 73]\n",
            " [86 87 66 58 30 75 60 44 15 75]\n",
            " [23 64 69 46 15 28 90 17 48 48]\n",
            " [15 22 25 83 68  7 51 69 98 44]\n",
            " [62 50 87 53 72 45 84 12 14 12]\n",
            " [98 78 97 34 98 45 82 10 22 96]\n",
            " [21  5 25 53 99  9  6 62 75  2]]\n",
            "\n",
            "Minimum value: 2\n",
            "Maximum value: 99\n"
          ]
        }
      ]
    },
    {
      "cell_type": "code",
      "source": [
        "#6\n",
        "arr_zero=np.zeros(10)\n",
        "arr_zero[4]=5\n",
        "arr_zero"
      ],
      "metadata": {
        "colab": {
          "base_uri": "https://localhost:8080/"
        },
        "id": "HAvU0wTJwZai",
        "outputId": "ee867148-011b-4ccc-e1c4-89163042bc41"
      },
      "execution_count": 89,
      "outputs": [
        {
          "output_type": "execute_result",
          "data": {
            "text/plain": [
              "array([0., 0., 0., 0., 5., 0., 0., 0., 0., 0.])"
            ]
          },
          "metadata": {},
          "execution_count": 89
        }
      ]
    },
    {
      "cell_type": "code",
      "source": [
        "#7\n",
        "arr_rev=[1,2,0,0,4,0]\n",
        "arr_rev.reverse()\n",
        "arr_rev"
      ],
      "metadata": {
        "colab": {
          "base_uri": "https://localhost:8080/"
        },
        "id": "YN-tkC8U1lxi",
        "outputId": "5a29daed-0442-4e27-8aa7-a729d223f47a"
      },
      "execution_count": 91,
      "outputs": [
        {
          "output_type": "execute_result",
          "data": {
            "text/plain": [
              "[0, 4, 0, 0, 2, 1]"
            ]
          },
          "metadata": {},
          "execution_count": 91
        }
      ]
    },
    {
      "cell_type": "code",
      "source": [
        "#8\n",
        "arr_border=np.ones((5,5))\n",
        "arr_border[1:-1,1:-1]=0\n",
        "arr_border"
      ],
      "metadata": {
        "colab": {
          "base_uri": "https://localhost:8080/"
        },
        "id": "Cxiv3Hro1l0H",
        "outputId": "826927b0-4701-4c8e-f6ef-98a111c155c1"
      },
      "execution_count": 99,
      "outputs": [
        {
          "output_type": "execute_result",
          "data": {
            "text/plain": [
              "array([[1., 1., 1., 1., 1.],\n",
              "       [1., 0., 0., 0., 1.],\n",
              "       [1., 0., 0., 0., 1.],\n",
              "       [1., 0., 0., 0., 1.],\n",
              "       [1., 1., 1., 1., 1.]])"
            ]
          },
          "metadata": {},
          "execution_count": 99
        }
      ]
    },
    {
      "cell_type": "code",
      "source": [
        "arr_checkerboard=np.zeros((8,8))\n",
        "arr_checkerboard[1::2,::2]=1\n",
        "arr_checkerboard[::2,1::2]=1\n",
        "arr_checkerboard"
      ],
      "metadata": {
        "colab": {
          "base_uri": "https://localhost:8080/"
        },
        "id": "PWA9uLEb1l2M",
        "outputId": "5447d7ec-eebe-4829-ff52-a549070228db"
      },
      "execution_count": 98,
      "outputs": [
        {
          "output_type": "execute_result",
          "data": {
            "text/plain": [
              "array([[0., 1., 0., 1., 0., 1., 0., 1.],\n",
              "       [1., 0., 1., 0., 1., 0., 1., 0.],\n",
              "       [0., 1., 0., 1., 0., 1., 0., 1.],\n",
              "       [1., 0., 1., 0., 1., 0., 1., 0.],\n",
              "       [0., 1., 0., 1., 0., 1., 0., 1.],\n",
              "       [1., 0., 1., 0., 1., 0., 1., 0.],\n",
              "       [0., 1., 0., 1., 0., 1., 0., 1.],\n",
              "       [1., 0., 1., 0., 1., 0., 1., 0.]])"
            ]
          },
          "metadata": {},
          "execution_count": 98
        }
      ]
    },
    {
      "cell_type": "markdown",
      "source": [
        "Problem - 3: Array Operations:\n",
        "For the following arrays:\n",
        "x = np.array([[1,2],[3,5]]) and y = np.array([[5,6],[7,8]]);\n",
        "v = np.array([9,10]) and w = np.array([11,12]);\n",
        "Complete all the task using numpy:\n",
        "1. Add the two array.\n",
        "2. Subtract the two array.\n",
        "3. Multiply the array with any integers of your choice.\n",
        "4. Find the square of each element of the array.\n",
        "5. Find the dot product between: v(and)w ; x(and)v ; x(and)y.\n",
        "6. Concatenate x(and)y along row and Concatenate v(and)w along column.\n",
        "{Hint:try np.concatenate() or np.vstack() functions.\n",
        "7. Concatenate x(and)v; if you get an error, observe and explain why did you get the error?"
      ],
      "metadata": {
        "id": "vYaTX8Nl-ijZ"
      }
    },
    {
      "cell_type": "code",
      "source": [
        "import numpy as np\n",
        "x = np.array([[1,2],[3,5]])\n",
        "y = np.array([[5,6],[7,8]])\n",
        "v = np.array([9,10])\n",
        "w = np.array([11,12])\n",
        "#1\n",
        "arr_add=x+y\n",
        "print(\"X + Y = \",arr_add)\n",
        "arr_add=v+w\n",
        "print(\"V + W = \",arr_add)\n",
        "#2\n",
        "arr_sub=x-y\n",
        "print(\"\\nX - Y = \",arr_sub)\n",
        "arr_sub=v-w\n",
        "print(\"V - W = \",arr_sub)\n",
        "#3\n",
        "arr_mul=x*3\n",
        "print(\"\\nX * 3 = \",arr_mul)\n",
        "arr_mul=y*3\n",
        "print(\"Y * 3 = \",arr_mul)\n",
        "#4\n",
        "arr_square=x**2\n",
        "print(\"\\nSquare of X = \",arr_square)\n",
        "arr_square=y**2\n",
        "print(\"Square of Y = \",arr_square)\n",
        "arr_square=v**2\n",
        "print(\"Square of V = \",arr_square)\n",
        "arr_square=w**2\n",
        "print(\"Square of W = \",arr_square)\n",
        "#5\n",
        "arr_dot_pro=np.dot(v,w)\n",
        "print(\"\\nDot product of V and W = \",arr_dot_pro)\n",
        "arr_dot_pro=np.dot(x,v)\n",
        "print(\"Dot product of X and V = \",arr_dot_pro)\n",
        "arr_dot_pro=np.dot(x,y)\n",
        "print(\"Dot product of X and Y = \",arr_dot_pro)\n",
        "\n",
        "#6\n",
        "arr_concat=np.concatenate((x,y),axis=0)\n",
        "print(\"\\nConcatenate X and Y along row = \",arr_concat)\n",
        "arr_concat=np.concatenate((v,w))\n",
        "print(\"Concatenate V and W along column = \",arr_concat)\n",
        "\n",
        "#7\n",
        "arr_concat=np.concatenate((x,v))\n",
        "print(\"\\nConcatenate X and V along row = \",arr_concat)\n",
        "# ValueError: all the input arrays must have same number of dimensions, but the array at index 0 has 2 dimension(s) and the array at index 1 has 1 dimension(s)\n",
        "# The error occurs because X is 2 dimensional array and array V has one dimension. SO in this case concatenation is not possible."
      ],
      "metadata": {
        "colab": {
          "base_uri": "https://localhost:8080/",
          "height": 731
        },
        "id": "2n-OhXmE1l4l",
        "outputId": "3dc952cb-1c20-4946-9aa2-b2aad5cac454"
      },
      "execution_count": 45,
      "outputs": [
        {
          "output_type": "stream",
          "name": "stdout",
          "text": [
            "X + Y =  [[ 6  8]\n",
            " [10 13]]\n",
            "V + W =  [20 22]\n",
            "\n",
            "X - Y =  [[-4 -4]\n",
            " [-4 -3]]\n",
            "V - W =  [-2 -2]\n",
            "\n",
            "X * 3 =  [[ 3  6]\n",
            " [ 9 15]]\n",
            "Y * 3 =  [[15 18]\n",
            " [21 24]]\n",
            "\n",
            "Square of X =  [[ 1  4]\n",
            " [ 9 25]]\n",
            "Square of Y =  [[25 36]\n",
            " [49 64]]\n",
            "Square of V =  [ 81 100]\n",
            "Square of W =  [121 144]\n",
            "\n",
            "Dot product of V and W =  219\n",
            "Dot product of X and V =  [29 77]\n",
            "Dot product of X and Y =  [[19 22]\n",
            " [50 58]]\n",
            "\n",
            "Concatenate X and Y along row =  [[1 2]\n",
            " [3 5]\n",
            " [5 6]\n",
            " [7 8]]\n",
            "Concatenate V and W along column =  [ 9 10 11 12]\n"
          ]
        },
        {
          "output_type": "error",
          "ename": "ValueError",
          "evalue": "all the input arrays must have same number of dimensions, but the array at index 0 has 2 dimension(s) and the array at index 1 has 1 dimension(s)",
          "traceback": [
            "\u001b[0;31m---------------------------------------------------------------------------\u001b[0m",
            "\u001b[0;31mValueError\u001b[0m                                Traceback (most recent call last)",
            "\u001b[0;32m<ipython-input-45-503abb56ea5f>\u001b[0m in \u001b[0;36m<cell line: 45>\u001b[0;34m()\u001b[0m\n\u001b[1;32m     43\u001b[0m \u001b[0;34m\u001b[0m\u001b[0m\n\u001b[1;32m     44\u001b[0m \u001b[0;31m#7\u001b[0m\u001b[0;34m\u001b[0m\u001b[0;34m\u001b[0m\u001b[0m\n\u001b[0;32m---> 45\u001b[0;31m \u001b[0marr_concat\u001b[0m\u001b[0;34m=\u001b[0m\u001b[0mnp\u001b[0m\u001b[0;34m.\u001b[0m\u001b[0mconcatenate\u001b[0m\u001b[0;34m(\u001b[0m\u001b[0;34m(\u001b[0m\u001b[0mx\u001b[0m\u001b[0;34m,\u001b[0m\u001b[0mv\u001b[0m\u001b[0;34m)\u001b[0m\u001b[0;34m)\u001b[0m\u001b[0;34m\u001b[0m\u001b[0;34m\u001b[0m\u001b[0m\n\u001b[0m\u001b[1;32m     46\u001b[0m \u001b[0mprint\u001b[0m\u001b[0;34m(\u001b[0m\u001b[0;34m\"\\nConcatenate X and V along row = \"\u001b[0m\u001b[0;34m,\u001b[0m\u001b[0marr_concat\u001b[0m\u001b[0;34m)\u001b[0m\u001b[0;34m\u001b[0m\u001b[0;34m\u001b[0m\u001b[0m\n\u001b[1;32m     47\u001b[0m \u001b[0;31m# ValueError: all the input arrays must have same number of dimensions, but the array at index 0 has 2 dimension(s) and the array at index 1 has 1 dimension(s)\u001b[0m\u001b[0;34m\u001b[0m\u001b[0;34m\u001b[0m\u001b[0m\n",
            "\u001b[0;31mValueError\u001b[0m: all the input arrays must have same number of dimensions, but the array at index 0 has 2 dimension(s) and the array at index 1 has 1 dimension(s)"
          ]
        }
      ]
    },
    {
      "cell_type": "markdown",
      "source": [
        "Problem - 4: Matrix Operations:\n",
        "• For the following arrays:\n",
        "A = np.array([[3,4],[7,8]]) and B = np.array([[5,3],[2,1]]);\n",
        "Prove following with Numpy:\n",
        "1. Prove A.(A)−1 = I.\n",
        "2. Prove AB != BA.\n",
        "3. Prove (AB)T = (B)T(A)T\n",
        "\n",
        "---\n",
        "\n",
        "• Solve the following system of Linear equation using Inverse Methods.\n",
        "\n",
        "                    2x − 3y + z = −1\n",
        "                    x − y + 2z = −3\n",
        "                    3x + y − z = 9\n",
        "\n",
        "{Hint: First use Numpy array to represent the equation in Matrix form. Then Solve for: AX = B}\n",
        "\n",
        "• Now: solve the above equation using np.linalg.inv function.{Explore more about ”linalg” function\n",
        "of Numpy}"
      ],
      "metadata": {
        "id": "675K566lFpn-"
      }
    },
    {
      "cell_type": "code",
      "source": [
        "from abc import ABC\n",
        "import numpy as np\n",
        "A = np.array([[3,4],[7,8]])\n",
        "B = np.array([[5,3],[2,1]])\n",
        "#1 Prove A.(A)−1 != I.\n",
        "A_inverse=np.linalg.inv(A)\n",
        "prove_1=np.dot(A,A_inverse)\n",
        "print(\"Prove 1.(A)−1 = I = \\n\",prove_1)\n",
        "\n",
        "#2 Prove AB != BA.\n",
        "AB=np.dot(A,B)\n",
        "BA=np.dot(B,A)\n",
        "print(\"\\nProve 2\\n\",AB,\"\\n    != \\n\",BA)\n",
        "\n",
        "#3 Prove (AB)T = (B)T(A)T\n",
        "AB_transpose = np.transpose(AB)\n",
        "B_transpose = np.transpose(B)\n",
        "A_transpose = np.transpose(A)\n",
        "BA_transpose = np.dot(B_transpose,A_transpose)\n",
        "print(\"\\nProve 3\\n(AB)T = \\n\",AB_transpose)\n",
        "print(\"\\n(B)T(A)T = \\n\",BA_transpose)\n",
        "\n",
        "# system of Linear equation using Inverse Methods.\n",
        "# array in matrix form\n",
        "N=np.array([[2,-3,1],[1,-1,2],[3,1,-1]])\n",
        "P=np.array([-1,-3,9])\n",
        "\n",
        "N_inv=np.linalg.inv(N)\n",
        "X=np.dot(N_inv,P)\n",
        "print(\"\\n[ x, y, z]= \",X)\n",
        "\n",
        "\n"
      ],
      "metadata": {
        "colab": {
          "base_uri": "https://localhost:8080/"
        },
        "id": "N6xIwaD11l6Y",
        "outputId": "5ccf464d-b190-419d-9bba-be921a2420a8"
      },
      "execution_count": 47,
      "outputs": [
        {
          "output_type": "stream",
          "name": "stdout",
          "text": [
            "Prove 1.(A)−1 = I = \n",
            " [[1.00000000e+00 0.00000000e+00]\n",
            " [1.77635684e-15 1.00000000e+00]]\n",
            "\n",
            "Prove 2\n",
            " [[23 13]\n",
            " [51 29]] \n",
            "    != \n",
            " [[36 44]\n",
            " [13 16]]\n",
            "\n",
            "Prove 3\n",
            "(AB)T = \n",
            " [[23 51]\n",
            " [13 29]]\n",
            "\n",
            "(B)T(A)T = \n",
            " [[23 51]\n",
            " [13 29]]\n",
            "\n",
            "[ x, y, z]=  [ 2.  1. -2.]\n"
          ]
        }
      ]
    },
    {
      "cell_type": "markdown",
      "source": [
        "4.2 Experiment: How Fast is Numpy?\n",
        "In this exercise, you will compare the performance and implementation of operations using plain Python\n",
        "lists (arrays) and NumPy arrays. Follow the instructions:\n",
        "\n",
        "1. Element-wise Addition:\n",
        "\n",
        "• Using Python Lists, perform element-wise addition of two lists of size 1, 000, 000. Measure and Print the time taken for this operation.\n",
        "\n",
        "• Using Numpy Arrays, Repeat the calculation and measure and print the time taken for this\n",
        "operation.\n",
        "\n",
        "2. Element-wise Multiplication\n",
        "\n",
        "• Using Python Lists, perform element-wise multiplication of two lists of size 1, 000, 000. Measure and Print the time taken for this operation.\n",
        "\n",
        "• Using Numpy Arrays, Repeat the calculation and measure and print the time taken for this\n",
        "operation.\n",
        "\n",
        "3. Dot Product\n",
        "\n",
        "• Using Python Lists, compute the dot product of two lists of size 1, 000, 000. Measure and Print the time taken for this operation.\n",
        "\n",
        "• Using Numpy Arrays, Repeat the calculation and measure and print the time taken for this\n",
        "operation."
      ],
      "metadata": {
        "id": "qe1h0PMVZgmR"
      }
    },
    {
      "cell_type": "code",
      "source": [
        "import time\n",
        "import numpy as np\n",
        "\n",
        "# Create lists and arrays of size 1,000,000\n",
        "size = 1000000\n",
        "list1 = list(range(size))\n",
        "list2 = list(range(size))\n",
        "array1 = np.arange(size)\n",
        "array2 = np.arange(size)\n",
        "\n",
        "# Element-wise addition using Python lists\n",
        "start_time = time.time()\n",
        "result_list = [x + y for x, y in zip(list1, list2)]\n",
        "end_time = time.time()\n",
        "print(\"Element-wise addition\")\n",
        "print(\"Time taken using Python lists:\", end_time - start_time, \"seconds\")\n",
        "\n",
        "# Element-wise addition using NumPy arrays\n",
        "start_time = time.time()\n",
        "result_array = array1 + array2\n",
        "end_time = time.time()\n",
        "print(\"Time taken using NumPy arrays:\", end_time - start_time, \"seconds\")\n",
        "\n",
        "# Element-wise multiplication using Python lists\n",
        "start_time= time.time()\n",
        "result_list= [x * y for x, y in zip(list1, list2)]\n",
        "end_time= time.time()\n",
        "print(\"\\nElement-wise multiplication\")\n",
        "print(\"Time taken using Python lists:\", end_time - start_time, \"seconds\")\n",
        "\n",
        "# Element-wise multiplication using NumPy arrays\n",
        "start_time= time.time()\n",
        "result_array= array1 * array2\n",
        "end_time= time.time()\n",
        "print(\"Time taken using NumPy arrays:\", end_time - start_time, \"seconds\")\n",
        "\n",
        "# dot-product using Python lists\n",
        "start_time= time.time()\n",
        "result_list= [x * y for x, y in zip(list1, list2)]\n",
        "end_time= time.time()\n",
        "print(\"\\nDot product\")\n",
        "print(\"Time taken using Python lists:\", end_time - start_time, \"seconds\")\n",
        "\n",
        "# dot-product using NumPy arrays\n",
        "start_time= time.time()\n",
        "result_array= np.dot(array1, array2)\n",
        "end_time= time.time()\n",
        "print(\"Time taken using NumPy arrays:\", end_time - start_time, \"seconds\")"
      ],
      "metadata": {
        "colab": {
          "base_uri": "https://localhost:8080/"
        },
        "id": "83UjnkaKVGFE",
        "outputId": "711f7843-bd69-4171-bf5e-eccabba7a7b8"
      },
      "execution_count": 15,
      "outputs": [
        {
          "output_type": "stream",
          "name": "stdout",
          "text": [
            "Element-wise addition\n",
            "Time taken using Python lists: 0.08601665496826172 seconds\n",
            "Time taken using NumPy arrays: 0.01013493537902832 seconds\n",
            "\n",
            "Element-wise multiplication\n",
            "Time taken using Python lists: 0.15643978118896484 seconds\n",
            "Time taken using NumPy arrays: 0.0034322738647460938 seconds\n",
            "\n",
            "Dot product\n",
            "Time taken using Python lists: 0.08826732635498047 seconds\n",
            "Time taken using NumPy arrays: 0.002521991729736328 seconds\n"
          ]
        }
      ]
    },
    {
      "cell_type": "markdown",
      "source": [
        "4. Matrix Multiplication\n",
        "\n",
        "• Using Python lists, perform matrix multiplication of two matrices of size 1000x1000. Measure\n",
        "and print the time taken for this operation.\n",
        "\n",
        "• Using NumPy arrays, perform matrix multiplication of two matrices of size 1000x1000. Mea-\n",
        "sure and print the time taken for this operation."
      ],
      "metadata": {
        "id": "T2yqBNKLZ5YN"
      }
    },
    {
      "cell_type": "code",
      "source": [
        "import time\n",
        "import numpy as np\n",
        "\n",
        "# Create matrices of size 1000x1000\n",
        "size = 1000\n",
        "matrix1_list = [[1 for _ in range(size)] for _ in range(size)]\n",
        "matrix2_list = [[2 for _ in range(size)] for _ in range(size)]\n",
        "matrix1_array = np.ones((size, size))\n",
        "matrix2_array = np.full((size, size), 2)\n",
        "\n",
        "# Matrix multiplication using Python lists\n",
        "start_time = time.time()\n",
        "result_list = [[sum(a * b for a, b in zip(row_a, col_b))\n",
        "                for col_b in zip(*matrix2_list)] for row_a in matrix1_list]\n",
        "end_time = time.time()\n",
        "print(\"Time taken using Python lists:\", end_time - start_time, \"seconds\")\n",
        "\n",
        "# Matrix multiplication using NumPy arrays\n",
        "start_time = time.time()\n",
        "result_array = np.dot(matrix1_array, matrix2_array)\n",
        "end_time = time.time()\n",
        "print(\"Time taken using NumPy arrays:\", end_time - start_time, \"seconds\")"
      ],
      "metadata": {
        "colab": {
          "base_uri": "https://localhost:8080/"
        },
        "id": "eNQNzqEEY86K",
        "outputId": "90b52ac1-41bc-4cd4-c766-0537c29f5672"
      },
      "execution_count": 16,
      "outputs": [
        {
          "output_type": "stream",
          "name": "stdout",
          "text": [
            "Time taken using Python lists: 114.6110987663269 seconds\n",
            "Time taken using NumPy arrays: 0.08552694320678711 seconds\n"
          ]
        }
      ]
    }
  ]
}